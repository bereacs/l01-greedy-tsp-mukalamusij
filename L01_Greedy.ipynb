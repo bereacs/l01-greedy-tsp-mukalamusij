{
  "nbformat": 4,
  "nbformat_minor": 0,
  "metadata": {
    "colab": {
      "name": "L01: Greedy.ipynb",
      "provenance": [],
      "include_colab_link": true
    },
    "kernelspec": {
      "name": "python3",
      "display_name": "Python 3"
    }
  },
  "cells": [
    {
      "cell_type": "markdown",
      "metadata": {
        "id": "view-in-github",
        "colab_type": "text"
      },
      "source": [
        "<a href=\"https://colab.research.google.com/github/bereacs/l01-greedy-tsp-mukalamusij/blob/master/L01_Greedy.ipynb\" target=\"_parent\"><img src=\"https://colab.research.google.com/assets/colab-badge.svg\" alt=\"Open In Colab\"/></a>"
      ]
    },
    {
      "cell_type": "markdown",
      "metadata": {
        "id": "Ws6rXa1xv_gv"
      },
      "source": [
        "# [L01: Implementing Greedy TSP](https://docs.google.com/document/d/1JA_CWBXPN6whvJAemnJLvtYJ3Pbk84dTUolWO_QqosA/edit?usp=sharing)\n",
        "Written by Dr. Jan Pearce, Berea College\n",
        "\n",
        "Complete the code by meeting all linked requirements and fixing all FIXMEs\n",
        "\n",
        "## Your Name: JOYCE MUKALAMUSI"
      ]
    },
    {
      "cell_type": "markdown",
      "metadata": {
        "id": "PvEpt0HPKq9X"
      },
      "source": [
        "**SUMMARY**: A brief summary description of the design and implementation, including how much your initial design plan evolved, the final result you achieved and the amount of time you spent as a programmer or programmers in accomplishing these results. This should be no more than two paragraphs.\n",
        "\n",
        "The initial design plan for the TSP algorithm ws to create a fairly simple implementation of the greedy algorithm for solving the TSP (Traveling Salesman Problem). As I was progressing through this it was clear that error handling was necessary to make the code effecient.\n",
        "\n",
        "**PERSONNEL**: A description of who you worked with and on what sections.  It is expected that all collaboration is done as pair programming together. Also, note these collaborations in the code section itself.\n",
        "\n",
        "I did not work with anyone from the class on this lab, I wish I did but I did receive help from a family friend of mine, she just graduated from Kentucky State with her bachelors in CS. I also did receive help from Chat GPT as well as articles that delve more into 2 opt and greedy algorithms. GeeksForGeeks was also a big help on this!!!\n",
        "\n",
        "**CHALLENGES**: Descriptions of the largest challenges you overcame and what made them challenging.\n",
        "\n",
        "By far the hardest thing I had to do was synthesize the code and actually figure out how I wanted to structure it. I was struggling to work with the given format Dr. Jan provided for us, so I completely re-wrote the algorithm. I tried to parse the coordinates points but I was just having difficulty doing that, so I ended up scratching everything and in order for me to retrieve the nodes I had to manually input the edges and nodes myself.\n",
        "\n",
        "**INNOVATIONS**: Any innovations that were not specifically required by the assignment. These are not required, but should be highlighted if included.\n",
        "\n",
        "I calculated the distances between the nodes from the other ones by implementing the distance formula. I also threw away the provided URL link.\n",
        "\n",
        "**TESTING**: Describe how you tested this work.\n",
        "\n",
        "I utimately added some test cases within the code.\n",
        "\n",
        "**ERRORS**: A list in bulleted form of all known errors and deficiencies.\n",
        "\n",
        "All in all I am so happy my code doesn't have any error messages, although the only thing I would consider as an \"error\" is that I wasn't able to pull the vertices and nodes from the provided URL, so I manually did it.\n",
        "\n",
        "**COMMENTS**: A paragraph or so of your own comments on and reactions to the Lab.\n",
        "\n",
        "This lab was sort of difficult but it taught me a lot. It taught me that with all kinds of methods you can figure out a common solution because like I mentioned previously, I had to scratch the code given and basically start with my own algorithm and I still managed to get a working algorithm and achieve all the deliverables. One thing I do wish we got beforehand was some guidance on the lab. I wish we kind of went over it in class, instead of tackling it blind. I did appreciate the extended deadline as well, even though I did start it late I was able to finish it just on time."
      ]
    },
    {
      "cell_type": "markdown",
      "metadata": {
        "id": "lRXe-Atyv30H"
      },
      "source": [
        "## Import Libraries"
      ]
    },
    {
      "cell_type": "code",
      "metadata": {
        "id": "b6koAGG2mhix"
      },
      "source": [
        "import networkx as nx\n",
        "import matplotlib.pyplot as plt\n",
        "import math\n",
        "from urllib.request import urlopen"
      ],
      "execution_count": null,
      "outputs": []
    },
    {
      "cell_type": "markdown",
      "metadata": {
        "id": "y-JqngNLmhVG"
      },
      "source": [
        "### Read data"
      ]
    },
    {
      "cell_type": "code",
      "metadata": {
        "id": "GzeEKA-nwLsJ",
        "outputId": "599bf940-88e3-4253-e2fa-3b5452e7b70b",
        "colab": {
          "base_uri": "https://localhost:8080/",
          "height": 153
        }
      },
      "source": [
        "tspdata = urlopen(\"http://cs.berea.edu/courses/csc445/data/tsp-small.txt\").read().decode('ASCII')\n",
        "print(tspdata)"
      ],
      "execution_count": null,
      "outputs": [
        {
          "output_type": "stream",
          "text": [
            "6\r\n",
            "1 5 \r\n",
            "3 7 \r\n",
            "5 11 \r\n",
            "3 5 \r\n",
            "5 7 \r\n",
            "7 9 \r\n",
            "\n"
          ],
          "name": "stdout"
        }
      ]
    },
    {
      "cell_type": "markdown",
      "metadata": {
        "id": "qGcB5022KlHL"
      },
      "source": [
        "## TSP Class"
      ]
    },
    {
      "cell_type": "code",
      "metadata": {
        "id": "KIzVOICElISX",
        "outputId": "f0efa4da-100f-4072-d5a1-3578b92d6c47",
        "colab": {
          "base_uri": "https://localhost:8080/",
          "height": 534
        }
      },
      "source": [
        "import networkx as nx\n",
        "import matplotlib.pyplot as plt\n",
        "import math\n",
        "\n",
        "class TSPGreedy:\n",
        "    \"\"\"\n",
        "    A class that implements the Greedy algorithm for solving the Traveling Salesman Problem (TSP).\n",
        "    \"\"\"\n",
        "\n",
        "    def __init__(self):\n",
        "        \"\"\"\n",
        "        Initialize the TSPGreedy class with an empty graph.\n",
        "\n",
        "        Returns:\n",
        "            None\n",
        "        \"\"\"\n",
        "        self.graph = nx.Graph()\n",
        "        self.route = []\n",
        "\n",
        "    def add_vertex(self, x, y):\n",
        "        \"\"\"\n",
        "        Adds a vertex to the graph with the specified coordinates.\n",
        "\n",
        "        Arguments:\n",
        "            x {float} -- The x-coordinate of the vertex.\n",
        "            y {float} -- The y-coordinate of the vertex.\n",
        "\n",
        "        Returns:\n",
        "            int -- The index of the added vertex.\n",
        "\n",
        "        Raises:\n",
        "            ValueError -- If the vertex already exists in the graph.\n",
        "        \"\"\"\n",
        "        if (x, y) in [self.graph.nodes[node]['pos'] for node in self.graph.nodes]:\n",
        "            raise ValueError(\"Vertex already exists in the graph\")\n",
        "        self.graph.add_node(len(self.graph.nodes), pos=(x, y))\n",
        "        return len(self.graph.nodes) - 1\n",
        "\n",
        "    def add_edge(self, node1, node2):\n",
        "        \"\"\"\n",
        "        Adds an edge between two nodes with a calculated weight (distance).\n",
        "\n",
        "        Arguments:\n",
        "            node1 {int} -- The first node.\n",
        "            node2 {int} -- The second node.\n",
        "\n",
        "        Returns:\n",
        "            float -- The weight of the added edge.\n",
        "\n",
        "        Raises:\n",
        "            ValueError -- If one or both nodes do not exist in the graph, or if the edge already exists.\n",
        "        \"\"\"\n",
        "        if node1 not in self.graph.nodes or node2 not in self.graph.nodes:\n",
        "            raise ValueError(\"One or both nodes do not exist in the graph\")\n",
        "        if self.graph.has_edge(node1, node2):\n",
        "            raise ValueError(\"Edge already exists in the graph\")\n",
        "        pos1 = self.graph.nodes[node1]['pos']\n",
        "        pos2 = self.graph.nodes[node2]['pos']\n",
        "        #weight = math.sqrt((pos1[0] - pos2[0])**1 + (pos1[1] - pos2[1])**2)\n",
        "        weight = math.sqrt((pos1[0] - pos2[0])**2 + (pos1[1] - pos2[1])**2)\n",
        "        self.graph.add_edge(node1, node2, weight=weight)\n",
        "        return weight\n",
        "\n",
        "    def greedy_tsp(self, start_node):\n",
        "        \"\"\"\n",
        "        Greedy TSP algorithm that finds a route starting from the given start_node.\n",
        "\n",
        "        Arguments:\n",
        "            start_node {int} -- The starting node.\n",
        "\n",
        "        Returns:\n",
        "            route {list} -- List of nodes representing the route.\n",
        "\n",
        "        Raises:\n",
        "            ValueError -- If the start node is not in the graph.\n",
        "        \"\"\"\n",
        "        if start_node not in self.graph.nodes:\n",
        "            raise ValueError(\"Start node is not in the graph\")\n",
        "        # iitialize visited nodes and start with the start_node\n",
        "        visited = set()\n",
        "        current_node = start_node\n",
        "        self.route.append(current_node)\n",
        "        visited.add(current_node)\n",
        "\n",
        "        # continue visiting nodes until all nodes are visited\n",
        "        while len(visited) < len(self.graph.nodes):\n",
        "            # find the nearest unvisited neighbor\n",
        "            neighbors = [(neighbor, self.graph.edges[current_node, neighbor]['weight'])\n",
        "                         for neighbor in self.graph.neighbors(current_node)\n",
        "                         if neighbor not in visited]\n",
        "\n",
        "            # select the nearest unvisited neighbor\n",
        "            next_node = min(neighbors, key=lambda x: x[1])[0]\n",
        "            self.route.append(next_node)\n",
        "            visited.add(next_node)\n",
        "            current_node = next_node\n",
        "\n",
        "        # return to the start to complete the cycle\n",
        "        self.route.append(start_node)\n",
        "        return self.route\n",
        "\n",
        "    def plot_graph(self):\n",
        "        \"\"\"\n",
        "        Plots the graph and the TSP route using NetworkX and matplotlib.\n",
        "        \"\"\"\n",
        "        # node positions\n",
        "        pos = nx.get_node_attributes(self.graph, 'pos')\n",
        "\n",
        "        # draw the graph\n",
        "        nx.draw(self.graph, pos, with_labels=True, node_size=700, node_color='lightblue')\n",
        "\n",
        "        # draw the edges with weights\n",
        "        edge_labels = nx.get_edge_attributes(self.graph, 'weight')\n",
        "        labels = {(u, v): f\"{edge_labels[(u, v)]:.2f}\" for u, v in edge_labels}\n",
        "        nx.draw_networkx_edge_labels(self.graph, pos, edge_labels=labels)\n",
        "\n",
        "\n",
        "        edge_list = [(self.route[i], self.route[i+1]) for i in range(len(self.route) - 1)]\n",
        "        nx.draw_networkx_edges(self.graph, pos, edgelist=edge_list, edge_color='r', width=2)\n",
        "\n",
        "\n",
        "        plt.show()\n",
        "\n",
        "def main():\n",
        "    \"\"\"\n",
        "    Main function to run the TSPGreedy algorithm.\n",
        "\n",
        "    Returns:\n",
        "        None\n",
        "    \"\"\"\n",
        "    # create TSPGreedy object\n",
        "    tsp = TSPGreedy()\n",
        "\n",
        "    # add vertices (coordinates)\n",
        "    tsp.add_vertex(1, 5)\n",
        "    tsp.add_vertex(3, 7)\n",
        "    tsp.add_vertex(5, 11)\n",
        "    tsp.add_vertex(3, 5)\n",
        "    tsp.add_vertex(5, 7)\n",
        "    tsp.add_vertex(7, 9)\n",
        "\n",
        "    # edges between all pairs of vertices\n",
        "    for i in range(len(tsp.graph.nodes)):\n",
        "        for j in range(i+1, len(tsp.graph.nodes)):\n",
        "            tsp.add_edge(i, j)\n",
        "\n",
        "    # ryn the greedy TSP algorithm starting from node 0\n",
        "    route = tsp.greedy_tsp(start_node=0)\n",
        "    print(\"TSP Route:\", route)\n",
        "\n",
        "    # plot the graph with the TSP route\n",
        "    tsp.plot_graph()\n",
        "\n",
        "if __name__ == \"__main__\":\n",
        "    main()"
      ],
      "execution_count": 5,
      "outputs": [
        {
          "output_type": "stream",
          "name": "stdout",
          "text": [
            "TSP Route: [0, 3, 1, 4, 5, 2, 0]\n"
          ]
        },
        {
          "output_type": "display_data",
          "data": {
            "text/plain": [
              "<Figure size 640x480 with 1 Axes>"
            ],
            "image/png": "[encoded data removed]"
          },
          "metadata": {}
        }
      ]
    },
    {
      "cell_type": "markdown",
      "metadata": {
        "id": "-6HarsXemeKP"
      },
      "source": []
    }
  ]
}