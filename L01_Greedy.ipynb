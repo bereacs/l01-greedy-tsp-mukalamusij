{
  "nbformat": 4,
  "nbformat_minor": 0,
  "metadata": {
    "colab": {
      "name": "L01: Greedy.ipynb",
      "provenance": [],
      "include_colab_link": true
    },
    "kernelspec": {
      "name": "python3",
      "display_name": "Python 3"
    }
  },
  "cells": [
    {
      "cell_type": "markdown",
      "metadata": {
        "id": "view-in-github",
        "colab_type": "text"
      },
      "source": [
        "<a href=\"https://colab.research.google.com/github/bereacs/l01-greedy-tsp-mukalamusij/blob/master/L01_Greedy.ipynb\" target=\"_parent\"><img src=\"https://colab.research.google.com/assets/colab-badge.svg\" alt=\"Open In Colab\"/></a>"
      ]
    },
    {
      "cell_type": "markdown",
      "metadata": {
        "id": "Ws6rXa1xv_gv"
      },
      "source": [
        "# [L01: Implementing Greedy TSP](https://docs.google.com/document/d/1JA_CWBXPN6whvJAemnJLvtYJ3Pbk84dTUolWO_QqosA/edit?usp=sharing)\n",
        "Written by Dr. Jan Pearce, Berea College\n",
        "\n",
        "Complete the code by meeting all linked requirements and fixing all FIXMEs\n",
        "\n",
        "## Your Name: JOYCE MUKALAMUSI"
      ]
    },
    {
      "cell_type": "markdown",
      "metadata": {
        "id": "PvEpt0HPKq9X"
      },
      "source": [
        "**SUMMARY**: A brief summary description of the design and implementation, including how much your initial design plan evolved, the final result you achieved and the amount of time you spent as a programmer or programmers in accomplishing these results. This should be no more than two paragraphs.\n",
        "\n",
        "The initial design plan for the TSP algorithm ws to create a fairly simple implementation of the greedy algorithm for solving the TSP (Traveling Salesman Problem). As I was progressing through this it was clear that error handling was necessary to make the code effecient.\n",
        "\n",
        "**PERSONNEL**: A description of who you worked with and on what sections.  It is expected that all collaboration is done as pair programming together. Also, note these collaborations in the code section itself.\n",
        "\n",
        "FIXME\n",
        "\n",
        "**CHALLENGES**: Descriptions of the largest challenges you overcame and what made them challenging.\n",
        "\n",
        "FIXME\n",
        "\n",
        "**INNOVATIONS**: Any innovations that were not specifically required by the assignment. These are not required, but should be highlighted if included.\n",
        "\n",
        "FIXME\n",
        "\n",
        "**TESTING**: Describe how you tested this work.\n",
        "\n",
        "FIXME\n",
        "\n",
        "**ERRORS**: A list in bulleted form of all known errors and deficiencies.\n",
        "\n",
        "FIXME\n",
        "\n",
        "**COMMENTS**: A paragraph or so of your own comments on and reactions to the Lab.\n",
        "\n",
        "FIXME"
      ]
    },
    {
      "cell_type": "markdown",
      "metadata": {
        "id": "lRXe-Atyv30H"
      },
      "source": [
        "## Import Libraries"
      ]
    },
    {
      "cell_type": "code",
      "metadata": {
        "id": "b6koAGG2mhix"
      },
      "source": [
        "import networkx as nx\n",
        "import matplotlib.pyplot as plt\n",
        "import math\n",
        "from urllib.request import urlopen"
      ],
      "execution_count": null,
      "outputs": []
    },
    {
      "cell_type": "markdown",
      "metadata": {
        "id": "y-JqngNLmhVG"
      },
      "source": [
        "### Read data"
      ]
    },
    {
      "cell_type": "code",
      "metadata": {
        "id": "GzeEKA-nwLsJ",
        "outputId": "599bf940-88e3-4253-e2fa-3b5452e7b70b",
        "colab": {
          "base_uri": "https://localhost:8080/",
          "height": 153
        }
      },
      "source": [
        "tspdata = urlopen(\"http://cs.berea.edu/courses/csc445/data/tsp-small.txt\").read().decode('ASCII')\n",
        "print(tspdata)"
      ],
      "execution_count": null,
      "outputs": [
        {
          "output_type": "stream",
          "text": [
            "6\r\n",
            "1 5 \r\n",
            "3 7 \r\n",
            "5 11 \r\n",
            "3 5 \r\n",
            "5 7 \r\n",
            "7 9 \r\n",
            "\n"
          ],
          "name": "stdout"
        }
      ]
    },
    {
      "cell_type": "markdown",
      "metadata": {
        "id": "qGcB5022KlHL"
      },
      "source": [
        "## TSP Class"
      ]
    },
    {
      "cell_type": "code",
      "metadata": {
        "id": "KIzVOICElISX",
        "outputId": "a5591b81-149d-4854-c6b2-d7329ab873c2",
        "colab": {
          "base_uri": "https://localhost:8080/",
          "height": 329
        }
      },
      "source": [
        "import networkx as nx\n",
        "import matplotlib.pyplot as plt\n",
        "import math\n",
        "\n",
        "class TSP:\n",
        "\n",
        "    def __init__(self):\n",
        "        \"\"\" TSP class containing data needed for networkx graph creation, file reading and file writing.\n",
        "            Creates a graph for the traveling salesperon problem using the greedy algorithm\n",
        "        \"\"\"\n",
        "\n",
        "        self.dimension = None\n",
        "        self.nodeData = []\n",
        "        self.graph = nx.DiGraph()\n",
        "        self.coords = {}\n",
        "        self.places = []\n",
        "        self.route = []\n",
        "\n",
        "    def extractData(self, inputFile=\"\"):\n",
        "        \"\"\"\n",
        "        Itterate through the input file and append each coordinate into the node list.\n",
        "        Keyword Arguments:\n",
        "            inputFile {str} -- a string for the file name (default: {\"\"})\n",
        "        \"\"\"\n",
        "        lines = inputFile.strip().split('\\n')\n",
        "\n",
        "        start_parsing = False\n",
        "        for line in lines:\n",
        "          if line.startswith(\"DIMENSION\"):\n",
        "            self.dimension = int(line.split(\":\")[1].strip())\n",
        "          elif line.startswith(\"NODE_COORD_SECTION\"):\n",
        "            start_parsing = True\n",
        "            continue\n",
        "          elif line.startswith(\"EOF\"):\n",
        "            break\n",
        "\n",
        "          if start_parsing:\n",
        "            parts = line.split()\n",
        "            node_id = int(parts[0])\n",
        "            x = float(parts[1])\n",
        "            y = float(parts[2])\n",
        "            self.nodeData.append((node_id, x, y))\n",
        "        #pass\n",
        "        #FIXME complete this function\n",
        "\n",
        "    def setUpCoords(self):\n",
        "        \"\"\" Puts the coordinates for each node into a dictionary as a tuple with the node as the key \"\"\"\n",
        "        for item in self.nodeData:\n",
        "            node_id, x, y = item\n",
        "            self.coords[node_id] = x, y\n",
        "        #pass\n",
        "\n",
        "\n",
        "    def calculateDistance(self, a, b):\n",
        "        \"\"\"calculates & returns the distance between points a and b\n",
        "        Arguments:\n",
        "            a {[tuple]} -- tuple of numbers for the x and y coordinate of a node\n",
        "            b {[tuple]} -- tuple of numbers for the x and y coordinate of a node\n",
        "        Returns:\n",
        "            [float] -- the distance between the two points using the distance formula\n",
        "        \"\"\"\n",
        "        return math.sqrt((a[0] - b[0])**2 + (a[1] - b[1])**2)\n",
        "\n",
        "        #pass\n",
        "        #FIXME complete this function\n",
        "\n",
        "    def getRoute(self, current, visits=[], nVisits=[], needList=True):\n",
        "        \"\"\"Makes a list of the nodes to be visited, in order, according to the greedy alogorithm for the TSP\n",
        "        Arguments:\n",
        "            current {int} -- the node to start at, not a list index\n",
        "        Keyword Arguments:\n",
        "            visits {list} -- list of places already visited (default: {[]})\n",
        "            nVisits {list} -- list of places not visited (default: {[]})\n",
        "            needList {bool} -- boolean deciding if the list of places not visited needs to be filled (default: {True})\n",
        "        \"\"\"\n",
        "        if needList:\n",
        "            self.places = self.listPlaces()\n",
        "            visits = [current]\n",
        "            nVisits = self.cleanUpList(visits, self.places)\n",
        "\n",
        "        if not nVisits:\n",
        "            self.route = visits\n",
        "            return\n",
        "\n",
        "        min_dist = float('inf')\n",
        "        next_node = None\n",
        "\n",
        "        for node in nVisits:\n",
        "            dist = self.calculateDistance(self.coords[current], self.coords[node])\n",
        "            if dist < min_dist:\n",
        "                min_dist = dist\n",
        "                next_node = node\n",
        "\n",
        "        visits.append(next_node)\n",
        "        nVisits.remove(next_node)\n",
        "\n",
        "        self.getRoute(next_node, visits, nVisits, needList=False)\n",
        "\n",
        "        #pass\n",
        "        #FIXME complete this function\n",
        "\n",
        "    def beGreedy(self, start):\n",
        "        \"\"\" puts together the greedy algorithm. Gets the route order and adds the starting place to the end of the route\n",
        "        Arguments:\n",
        "            start -- the starting node for the greedy algorithm\n",
        "        \"\"\"\n",
        "        self.getRoute(start)\n",
        "        self.route.append(start)\n",
        "\n",
        "        #pass\n",
        "        #FIXME complete this function\n",
        "\n",
        "    def listPlaces(self):\n",
        "        \"\"\"makes a list of all the nodes/places from the dictionary\n",
        "        Returns:\n",
        "            [list] -- list of all the nodes/places\n",
        "        \"\"\"\n",
        "        return list(self.cooords.keys())\n",
        "        #pass\n",
        "        #FIXME complete this function\n",
        "\n",
        "    def cleanUpList(self, visited, notVisited):\n",
        "        \"\"\"removes items in visited from notVisited\n",
        "        Arguments:\n",
        "            visited {list}\n",
        "            notVisited {list}\n",
        "        Returns:\n",
        "            [list] -- a list of notVisited - visited\n",
        "        \"\"\"\n",
        "\n",
        "        for item in visited:\n",
        "            if item in notVisited:\n",
        "                notVisited.remove(item)\n",
        "        return notVisited\n",
        "\n",
        "    def addNodes(self):\n",
        "        \"\"\" adds nodes to the networkx graph\n",
        "        \"\"\"\n",
        "\n",
        "        for everything in self.nodeData:\n",
        "            node = everything[0]\n",
        "            self.graph.add_node(node, pos=self.coords[node])\n",
        "\n",
        "    def addEdges(self):\n",
        "        \"\"\"Adds graphs to the networkx graph\n",
        "        \"\"\"\n",
        "\n",
        "        x = 0\n",
        "        while x < len(self.route)-1:\n",
        "            self.graph.add_edge(self.route[x], self.route[x+1],\n",
        "                                weight=self.calculateDistance(self.coords[self.route[x]], self.coords[self.route[x+1]]))\n",
        "            x += 1\n",
        "\n",
        "    def showGraph(self):\n",
        "        \"\"\"Uses the imported libraries to display the graph\n",
        "        \"\"\"\n",
        "        # get labels and coordinates for the graph\n",
        "        coords = nx.get_node_attributes(self.graph, 'pos')\n",
        "        labels = nx.get_edge_attributes(self.graph, 'weight')\n",
        "        # draw nodes in their coordinates\n",
        "        nx.draw(self.graph, coords)\n",
        "        nx.draw_networkx_labels(self.graph, coords)\n",
        "        # draw edges with their weights\n",
        "        nx.draw_networkx_edge_labels(self.graph, coords, edge_labels=labels)\n",
        "        plt.show()\n",
        "\n",
        "\n",
        "\n",
        "\n",
        "def main():\n",
        "\n",
        "    tspdata = \"\"\"\n",
        "NAME: test_data\n",
        "TYPE: TSP\n",
        "COMMENT: 4 cities\n",
        "DIMENSION: 4\n",
        "EDGE_WEIGHT_TYPE: EUC_2D\n",
        "NODE_COORD_SECTION\n",
        "1 0 0\n",
        "2 1 0\n",
        "3 1 1\n",
        "4 0 1\n",
        "EOF\n",
        "\"\"\"\n",
        "\n",
        "    tsp = TSP()\n",
        "\n",
        "    tsp.extractData(tspdata)\n",
        "    tsp.setUpCoords()\n",
        "    tsp.addNodes()\n",
        "    tsp.beGreedy(1)\n",
        "    tsp.addEdges()\n",
        "    tsp.showGraph()\n",
        "\n",
        "\n",
        "main()"
      ],
      "execution_count": 4,
      "outputs": [
        {
          "output_type": "error",
          "ename": "AttributeError",
          "evalue": "'TSP' object has no attribute 'cooords'",
          "traceback": [
            "\u001b[0;31m---------------------------------------------------------------------------\u001b[0m",
            "\u001b[0;31mAttributeError\u001b[0m                            Traceback (most recent call last)",
            "\u001b[0;32m/tmp/ipython-input-2869642649.py\u001b[0m in \u001b[0;36m<cell line: 0>\u001b[0;34m()\u001b[0m\n\u001b[1;32m    194\u001b[0m \u001b[0;34m\u001b[0m\u001b[0m\n\u001b[1;32m    195\u001b[0m \u001b[0;34m\u001b[0m\u001b[0m\n\u001b[0;32m--> 196\u001b[0;31m \u001b[0mmain\u001b[0m\u001b[0;34m(\u001b[0m\u001b[0;34m)\u001b[0m\u001b[0;34m\u001b[0m\u001b[0;34m\u001b[0m\u001b[0m\n\u001b[0m",
            "\u001b[0;32m/tmp/ipython-input-2869642649.py\u001b[0m in \u001b[0;36mmain\u001b[0;34m()\u001b[0m\n\u001b[1;32m    189\u001b[0m     \u001b[0mtsp\u001b[0m\u001b[0;34m.\u001b[0m\u001b[0msetUpCoords\u001b[0m\u001b[0;34m(\u001b[0m\u001b[0;34m)\u001b[0m\u001b[0;34m\u001b[0m\u001b[0;34m\u001b[0m\u001b[0m\n\u001b[1;32m    190\u001b[0m     \u001b[0mtsp\u001b[0m\u001b[0;34m.\u001b[0m\u001b[0maddNodes\u001b[0m\u001b[0;34m(\u001b[0m\u001b[0;34m)\u001b[0m\u001b[0;34m\u001b[0m\u001b[0;34m\u001b[0m\u001b[0m\n\u001b[0;32m--> 191\u001b[0;31m     \u001b[0mtsp\u001b[0m\u001b[0;34m.\u001b[0m\u001b[0mbeGreedy\u001b[0m\u001b[0;34m(\u001b[0m\u001b[0;36m1\u001b[0m\u001b[0;34m)\u001b[0m\u001b[0;34m\u001b[0m\u001b[0;34m\u001b[0m\u001b[0m\n\u001b[0m\u001b[1;32m    192\u001b[0m     \u001b[0mtsp\u001b[0m\u001b[0;34m.\u001b[0m\u001b[0maddEdges\u001b[0m\u001b[0;34m(\u001b[0m\u001b[0;34m)\u001b[0m\u001b[0;34m\u001b[0m\u001b[0;34m\u001b[0m\u001b[0m\n\u001b[1;32m    193\u001b[0m     \u001b[0mtsp\u001b[0m\u001b[0;34m.\u001b[0m\u001b[0mshowGraph\u001b[0m\u001b[0;34m(\u001b[0m\u001b[0;34m)\u001b[0m\u001b[0;34m\u001b[0m\u001b[0;34m\u001b[0m\u001b[0m\n",
            "\u001b[0;32m/tmp/ipython-input-2869642649.py\u001b[0m in \u001b[0;36mbeGreedy\u001b[0;34m(self, start)\u001b[0m\n\u001b[1;32m    105\u001b[0m             \u001b[0mstart\u001b[0m \u001b[0;34m-\u001b[0m\u001b[0;34m-\u001b[0m \u001b[0mthe\u001b[0m \u001b[0mstarting\u001b[0m \u001b[0mnode\u001b[0m \u001b[0;32mfor\u001b[0m \u001b[0mthe\u001b[0m \u001b[0mgreedy\u001b[0m \u001b[0malgorithm\u001b[0m\u001b[0;34m\u001b[0m\u001b[0;34m\u001b[0m\u001b[0m\n\u001b[1;32m    106\u001b[0m         \"\"\"\n\u001b[0;32m--> 107\u001b[0;31m         \u001b[0mself\u001b[0m\u001b[0;34m.\u001b[0m\u001b[0mgetRoute\u001b[0m\u001b[0;34m(\u001b[0m\u001b[0mstart\u001b[0m\u001b[0;34m)\u001b[0m\u001b[0;34m\u001b[0m\u001b[0;34m\u001b[0m\u001b[0m\n\u001b[0m\u001b[1;32m    108\u001b[0m         \u001b[0mself\u001b[0m\u001b[0;34m.\u001b[0m\u001b[0mroute\u001b[0m\u001b[0;34m.\u001b[0m\u001b[0mappend\u001b[0m\u001b[0;34m(\u001b[0m\u001b[0mstart\u001b[0m\u001b[0;34m)\u001b[0m\u001b[0;34m\u001b[0m\u001b[0;34m\u001b[0m\u001b[0m\n\u001b[1;32m    109\u001b[0m \u001b[0;34m\u001b[0m\u001b[0m\n",
            "\u001b[0;32m/tmp/ipython-input-2869642649.py\u001b[0m in \u001b[0;36mgetRoute\u001b[0;34m(self, current, visits, nVisits, needList)\u001b[0m\n\u001b[1;32m     75\u001b[0m         \"\"\"\n\u001b[1;32m     76\u001b[0m         \u001b[0;32mif\u001b[0m \u001b[0mneedList\u001b[0m\u001b[0;34m:\u001b[0m\u001b[0;34m\u001b[0m\u001b[0;34m\u001b[0m\u001b[0m\n\u001b[0;32m---> 77\u001b[0;31m             \u001b[0mself\u001b[0m\u001b[0;34m.\u001b[0m\u001b[0mplaces\u001b[0m \u001b[0;34m=\u001b[0m \u001b[0mself\u001b[0m\u001b[0;34m.\u001b[0m\u001b[0mlistPlaces\u001b[0m\u001b[0;34m(\u001b[0m\u001b[0;34m)\u001b[0m\u001b[0;34m\u001b[0m\u001b[0;34m\u001b[0m\u001b[0m\n\u001b[0m\u001b[1;32m     78\u001b[0m             \u001b[0mvisits\u001b[0m \u001b[0;34m=\u001b[0m \u001b[0;34m[\u001b[0m\u001b[0mcurrent\u001b[0m\u001b[0;34m]\u001b[0m\u001b[0;34m\u001b[0m\u001b[0;34m\u001b[0m\u001b[0m\n\u001b[1;32m     79\u001b[0m             \u001b[0mnVisits\u001b[0m \u001b[0;34m=\u001b[0m \u001b[0mself\u001b[0m\u001b[0;34m.\u001b[0m\u001b[0mcleanUpList\u001b[0m\u001b[0;34m(\u001b[0m\u001b[0mvisits\u001b[0m\u001b[0;34m,\u001b[0m \u001b[0mself\u001b[0m\u001b[0;34m.\u001b[0m\u001b[0mplaces\u001b[0m\u001b[0;34m)\u001b[0m\u001b[0;34m\u001b[0m\u001b[0;34m\u001b[0m\u001b[0m\n",
            "\u001b[0;32m/tmp/ipython-input-2869642649.py\u001b[0m in \u001b[0;36mlistPlaces\u001b[0;34m(self)\u001b[0m\n\u001b[1;32m    116\u001b[0m             \u001b[0;34m[\u001b[0m\u001b[0mlist\u001b[0m\u001b[0;34m]\u001b[0m \u001b[0;34m-\u001b[0m\u001b[0;34m-\u001b[0m \u001b[0mlist\u001b[0m \u001b[0mof\u001b[0m \u001b[0mall\u001b[0m \u001b[0mthe\u001b[0m \u001b[0mnodes\u001b[0m\u001b[0;34m/\u001b[0m\u001b[0mplaces\u001b[0m\u001b[0;34m\u001b[0m\u001b[0;34m\u001b[0m\u001b[0m\n\u001b[1;32m    117\u001b[0m         \"\"\"\n\u001b[0;32m--> 118\u001b[0;31m         \u001b[0;32mreturn\u001b[0m \u001b[0mlist\u001b[0m\u001b[0;34m(\u001b[0m\u001b[0mself\u001b[0m\u001b[0;34m.\u001b[0m\u001b[0mcooords\u001b[0m\u001b[0;34m.\u001b[0m\u001b[0mkeys\u001b[0m\u001b[0;34m(\u001b[0m\u001b[0;34m)\u001b[0m\u001b[0;34m)\u001b[0m\u001b[0;34m\u001b[0m\u001b[0;34m\u001b[0m\u001b[0m\n\u001b[0m\u001b[1;32m    119\u001b[0m         \u001b[0;31m#pass\u001b[0m\u001b[0;34m\u001b[0m\u001b[0;34m\u001b[0m\u001b[0m\n\u001b[1;32m    120\u001b[0m         \u001b[0;31m#FIXME complete this function\u001b[0m\u001b[0;34m\u001b[0m\u001b[0;34m\u001b[0m\u001b[0m\n",
            "\u001b[0;31mAttributeError\u001b[0m: 'TSP' object has no attribute 'cooords'"
          ]
        }
      ]
    },
    {
      "cell_type": "markdown",
      "metadata": {
        "id": "-6HarsXemeKP"
      },
      "source": []
    }
  ]
}